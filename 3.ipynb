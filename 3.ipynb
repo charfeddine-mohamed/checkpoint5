import math
class Circle():
    def __init__(self, r):
        self.radius = r
    def area(self):
        return self.radius**2*math.pi

    def perimeter(self):
        return 2*self.radius*math.pi
radius=int(input("enter the circle radius : "))
NewCircle = Circle(radius)
print("the circle area is ",int(NewCircle.area()))
print("the circle perimeter is ",int(NewCircle.perimeter()))
circlecenterx=int(input("enter the circle center x : "))
circlecentery=int(input("enter the circle center y : "))
pointx=int(input("enter the point you want to check x : "))
pointy=int(input("enter the point you want to check y : "))
print("if what you entered is right circle center cordinates are :",(circlecenterx,circlecentery),"and the point you want to check cordinates are",(pointx,pointy))
pop=str(input("do you wish to continue ? : "))
if pop == "yes" :
                    answer=str(input("do you wish to continue with the previous circle parameters ?:"))
                    if answer=="no" :
                        
                                        newparameter=int(input("enter a new circle parameter :"))
                                        if (((pointx-circlecenterx)**2)+(pointy-circlecentery)**2)== (newparameter**2):
                                            print("yes the point is a part of the circle")
                                        else :
                                              print("no the point is not a part of the circle ")
                    if answer=="yes" :
                        if (((pointx-circlecenterx)**2)+(pointy-circlecentery)**2)== (radius**2):
                            print("yes the point is a part of the circle")
                        else:
                            print("no the point is not a part of the circle ")
if pop=="no" : print("restart the program please")

