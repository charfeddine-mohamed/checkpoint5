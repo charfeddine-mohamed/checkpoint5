class Bank_Account:
    def __init__(self):
        self.balance=int(input("enter your balance"))
        print()
    def deposit(self):
        amount=float(input("Enter amount to be Deposit: "))
        self.balance += amount
        print("\n Amount Deposited:",amount)
    def withdraw(self):
        amount = float(input("Enter amount to Withdraw: "))
        if self.balance>=amount:
            self.balance-=amount
            print("\n withdrawed ammount is :", amount)
        else:
            print("\n Insufficient balance  ")
    def display(self):
        print("\n Net Available Balance=",self.balance)   
s = Bank_Account()
s.deposit()
s.withdraw()
s.display()
