class Rectangle():
    def __init__(self, x, y):
        self.x = x 
        self.y = y 
    def rectangle_area(self):
        return (self.x *self.y)
perimeter = lambda x,y : (x+y)*2
secondrectangle = Rectangle(3,4)
print("area is :",secondrectangle.rectangle_area())
print("perimeter is :",perimeter(3,4))
